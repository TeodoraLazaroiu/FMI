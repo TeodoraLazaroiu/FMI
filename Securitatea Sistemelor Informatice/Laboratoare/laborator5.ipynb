{
 "cells": [
  {
   "cell_type": "markdown",
   "metadata": {},
   "source": [
    "### Exercitiul 1"
   ]
  },
  {
   "cell_type": "code",
   "execution_count": null,
   "metadata": {},
   "outputs": [],
   "source": [
    "# Candidat 1\n",
    "\n",
    "from time import sleep\n",
    "seed = int(input(\"Introduceti seed: \"))\n",
    "\n",
    "try:\n",
    "    while True:\n",
    "        print(seed)\n",
    "        sleep(1)\n",
    "        seed = seed ^ seed\n",
    "except KeyboardInterrupt:\n",
    "    pass\n",
    "\n",
    "# se executa operatia xor intre 2 numere identice\n",
    "# iar rezultatul va fi mereu 0"
   ]
  },
  {
   "cell_type": "code",
   "execution_count": null,
   "metadata": {},
   "outputs": [],
   "source": [
    "# Candidat 2\n",
    "\n",
    "from time import sleep\n",
    "seed = int(input(\"Introduceti seed: \"))\n",
    "\n",
    "try:\n",
    "    while True:\n",
    "        print(seed)\n",
    "        sleep(1)\n",
    "        seed = int(seed + seed/2)\n",
    "except KeyboardInterrupt:\n",
    "    pass\n",
    "\n",
    "# La fiecare pas se inmulteste seed-ul\n",
    "# cu 1.5 ceea ce face rezultatul previzibil"
   ]
  },
  {
   "cell_type": "code",
   "execution_count": null,
   "metadata": {},
   "outputs": [],
   "source": [
    "# Candidat 3\n",
    "\n",
    "from time import sleep\n",
    "seed = int(input(\"Introduceti seed: \"))\n",
    "\n",
    "try:\n",
    "    while True:\n",
    "        print(seed)\n",
    "        sleep(1)\n",
    "        seed = seed >> 2\n",
    "except KeyboardInterrupt:\n",
    "    pass\n",
    "\n",
    "# Se shifteaza seedul cu 2 pozitii la dreapta\n",
    "# adica se imparte la 4, ajungandu-se la 0"
   ]
  },
  {
   "cell_type": "markdown",
   "metadata": {},
   "source": [
    "### Exercitiul 2"
   ]
  },
  {
   "cell_type": "code",
   "execution_count": null,
   "metadata": {},
   "outputs": [],
   "source": [
    "import string, secrets\n",
    "alphabet = string.ascii_letters + string.digits + '.,!@$?#%^&*'"
   ]
  },
  {
   "cell_type": "markdown",
   "metadata": {},
   "source": [
    "1. Generează o parolă de minim 10 caractere care conține cel puțin o literă mare, o literă mică, o cifră și un caracter special (.!$@).\n",
    "\n",
    "**Utilizare:** Generarea unei parole sigure pentru un utilizator"
   ]
  },
  {
   "cell_type": "code",
   "execution_count": null,
   "metadata": {},
   "outputs": [],
   "source": [
    "while True:\n",
    "    password = ''.join(secrets.choice(alphabet) for i in range(10))\n",
    "    if (any(ch.islower() for ch in password) and any(ch.isupper() for ch in password)\n",
    "        and any(ch.isdigit() for ch in password)) and any(ch in string.punctuation for ch in password):\n",
    "        break\n",
    "\n",
    "print(password)"
   ]
  },
  {
   "cell_type": "markdown",
   "metadata": {},
   "source": [
    "2. Generează un string URL-safe de (cel puțin) 32 caractere.\n",
    "\n",
    "**Utilizare**: pentru un link de confirmare a unui cont"
   ]
  },
  {
   "cell_type": "code",
   "execution_count": null,
   "metadata": {},
   "outputs": [],
   "source": [
    "url_safe_string = secrets.token_urlsafe(32)\n",
    "print(url_safe_string)"
   ]
  },
  {
   "cell_type": "markdown",
   "metadata": {},
   "source": [
    "3. Generează un token hexazecimal de (cel puțin) 32 cifre hexazecimale.\n",
    "\n",
    "**Utilizare**: autentificare unui utilizator"
   ]
  },
  {
   "cell_type": "code",
   "execution_count": null,
   "metadata": {},
   "outputs": [],
   "source": [
    "url_safe_string = secrets.token_urlsafe(32)\n",
    "print(url_safe_string)"
   ]
  },
  {
   "cell_type": "markdown",
   "metadata": {},
   "source": [
    "4. Verifică dacă 2 secvențe sunt identice sau nu, minimizând riscul unui atac de timp (timing attack)."
   ]
  },
  {
   "cell_type": "code",
   "execution_count": null,
   "metadata": {},
   "outputs": [],
   "source": [
    "string1 = secrets.token_bytes(64)\n",
    "string2 = secrets.token_bytes(64) \n",
    "\n",
    "result = secrets.compare_digest(string1, string2)\n",
    "print(result)"
   ]
  },
  {
   "cell_type": "markdown",
   "metadata": {},
   "source": [
    "5. Generează o cheie fluidă binară care ulterior să poată fi folosită pentru criptarea unui mesaj de 100 caractere."
   ]
  },
  {
   "cell_type": "code",
   "execution_count": 57,
   "metadata": {},
   "outputs": [
    {
     "name": "stdout",
     "output_type": "stream",
     "text": [
      "b'c0fad05243465ad9712704ef36d0b144cb4c350279da0d41a7487dc9ec061bdb498e8c6c2f2ade36a89a3a42ff40707b8f3546a2968d341baa5e83c1c8613cd5278096ea9313d0a37e05cca3d5bcf42c48e79c8470e0a23cc19aa17a8a5ed1cd683077db'\n"
     ]
    }
   ],
   "source": [
    "import binascii\n",
    "\n",
    "key = secrets.token_bytes(100)\n",
    "print(key)"
   ]
  },
  {
   "cell_type": "markdown",
   "metadata": {},
   "source": [
    "6. Stochează parole folosind un modul / o librărie care să ofere un nivel suficient de securitate."
   ]
  },
  {
   "cell_type": "code",
   "execution_count": 53,
   "metadata": {},
   "outputs": [
    {
     "name": "stdout",
     "output_type": "stream",
     "text": [
      "b'f0472d9fd492628fe9760d3c011885fb3df39ac20a14d21f6b5d05a6e0e9c409'\n"
     ]
    }
   ],
   "source": [
    "import os, binascii\n",
    "from backports.pbkdf2 import pbkdf2_hmac\n",
    "\n",
    "salt = secrets.token_bytes(32)\n",
    "password = \"parola\".encode(\"utf8\")\n",
    "key = pbkdf2_hmac(\"sha256\", password, salt, 50000, 32)\n",
    "print(binascii.hexlify(key))"
   ]
  }
 ],
 "metadata": {
  "kernelspec": {
   "display_name": "Python 3.10.7 64-bit",
   "language": "python",
   "name": "python3"
  },
  "language_info": {
   "codemirror_mode": {
    "name": "ipython",
    "version": 3
   },
   "file_extension": ".py",
   "mimetype": "text/x-python",
   "name": "python",
   "nbconvert_exporter": "python",
   "pygments_lexer": "ipython3",
   "version": "3.10.7"
  },
  "orig_nbformat": 4,
  "vscode": {
   "interpreter": {
    "hash": "000415aa154d9136c8fc53aa093a6cffdce1a35468ce3069257e83f15b601b3f"
   }
  }
 },
 "nbformat": 4,
 "nbformat_minor": 2
}

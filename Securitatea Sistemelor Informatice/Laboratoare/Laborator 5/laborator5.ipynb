{
 "cells": [
  {
   "cell_type": "markdown",
   "metadata": {},
   "source": [
    "### Exercitiul 1"
   ]
  },
  {
   "cell_type": "code",
   "execution_count": 13,
   "metadata": {},
   "outputs": [
    {
     "name": "stdout",
     "output_type": "stream",
     "text": [
      "47678\n",
      "0\n",
      "0\n",
      "0\n"
     ]
    }
   ],
   "source": [
    "# Candidat 1\n",
    "\n",
    "from time import sleep\n",
    "seed = int(input(\"Introduceti seed: \"))\n",
    "\n",
    "try:\n",
    "    while True:\n",
    "        print(seed)\n",
    "        sleep(1)\n",
    "        seed = seed ^ seed\n",
    "except KeyboardInterrupt:\n",
    "    pass\n",
    "\n",
    "# se executa operatia xor intre 2 numere identice\n",
    "# iar rezultatul va fi mereu 0"
   ]
  },
  {
   "cell_type": "code",
   "execution_count": 14,
   "metadata": {},
   "outputs": [
    {
     "name": "stdout",
     "output_type": "stream",
     "text": [
      "200\n",
      "300\n",
      "450\n",
      "675\n",
      "1012\n",
      "1518\n",
      "2277\n"
     ]
    }
   ],
   "source": [
    "# Candidat 2\n",
    "\n",
    "from time import sleep\n",
    "seed = int(input(\"Introduceti seed: \"))\n",
    "\n",
    "try:\n",
    "    while True:\n",
    "        print(seed)\n",
    "        sleep(1)\n",
    "        seed = int(seed + seed/2)\n",
    "except KeyboardInterrupt:\n",
    "    pass\n",
    "\n",
    "# La fiecare pas se inmulteste seed-ul\n",
    "# cu 1.5 ceea ce face rezultatul predictibil"
   ]
  },
  {
   "cell_type": "code",
   "execution_count": 15,
   "metadata": {},
   "outputs": [
    {
     "name": "stdout",
     "output_type": "stream",
     "text": [
      "1024\n",
      "256\n",
      "64\n",
      "16\n",
      "4\n",
      "1\n",
      "0\n",
      "0\n"
     ]
    }
   ],
   "source": [
    "# Candidat 3\n",
    "\n",
    "from time import sleep\n",
    "seed = int(input(\"Introduceti seed: \"))\n",
    "\n",
    "try:\n",
    "    while True:\n",
    "        print(seed)\n",
    "        sleep(1)\n",
    "        seed = seed >> 2\n",
    "except KeyboardInterrupt:\n",
    "    pass\n",
    "\n",
    "# Se shifteaza seedul cu 2 pozitii la dreapta\n",
    "# adica se imparte la 4, ajungandu-se la 0"
   ]
  },
  {
   "cell_type": "markdown",
   "metadata": {},
   "source": [
    "### Exercitiul 2"
   ]
  },
  {
   "cell_type": "code",
   "execution_count": 16,
   "metadata": {},
   "outputs": [],
   "source": [
    "import string, secrets\n",
    "alphabet = string.ascii_letters + string.digits + '.,!@$?#%^&*'"
   ]
  },
  {
   "cell_type": "markdown",
   "metadata": {},
   "source": [
    "1. Generează o parolă de minim 10 caractere care conține cel puțin o literă mare, o literă mică, o cifră și un caracter special (.!$@).\n",
    "\n",
    "**Utilizare:** Generarea unei parole sigure pentru un utilizator"
   ]
  },
  {
   "cell_type": "code",
   "execution_count": 17,
   "metadata": {},
   "outputs": [
    {
     "name": "stdout",
     "output_type": "stream",
     "text": [
      "fHcY@H2HZw\n"
     ]
    }
   ],
   "source": [
    "while True:\n",
    "    password = ''.join(secrets.choice(alphabet) for i in range(10))\n",
    "    if (any(ch.islower() for ch in password) and any(ch.isupper() for ch in password)\n",
    "        and any(ch.isdigit() for ch in password)) and any(ch in string.punctuation for ch in password):\n",
    "        break\n",
    "\n",
    "print(password)"
   ]
  },
  {
   "cell_type": "markdown",
   "metadata": {},
   "source": [
    "2. Generează un string URL-safe de (cel puțin) 32 caractere.\n",
    "\n",
    "**Utilizare**: pentru un link de confirmare a unui cont"
   ]
  },
  {
   "cell_type": "code",
   "execution_count": 18,
   "metadata": {},
   "outputs": [
    {
     "name": "stdout",
     "output_type": "stream",
     "text": [
      "yRQUNTuc1QY7JOHoLqWrPak9ctTkfvLILUhKbHY8ZSw\n"
     ]
    }
   ],
   "source": [
    "url_safe_string = secrets.token_urlsafe(32)\n",
    "print(url_safe_string)"
   ]
  },
  {
   "cell_type": "markdown",
   "metadata": {},
   "source": [
    "3. Generează un token hexazecimal de (cel puțin) 32 cifre hexazecimale.\n",
    "\n",
    "**Utilizare**: autentificare unui utilizator"
   ]
  },
  {
   "cell_type": "code",
   "execution_count": 19,
   "metadata": {},
   "outputs": [
    {
     "name": "stdout",
     "output_type": "stream",
     "text": [
      "cf391ccaf8e5d37b64e3e81544f9e06e4f6ad0028009e3f4f1a29bbbbccad8f8\n"
     ]
    }
   ],
   "source": [
    "url_safe_string = secrets.token_hex(32)\n",
    "print(url_safe_string)"
   ]
  },
  {
   "cell_type": "markdown",
   "metadata": {},
   "source": [
    "4. Verifică dacă 2 secvențe sunt identice sau nu, minimizând riscul unui atac de timp (timing attack)."
   ]
  },
  {
   "cell_type": "code",
   "execution_count": 21,
   "metadata": {},
   "outputs": [
    {
     "name": "stdout",
     "output_type": "stream",
     "text": [
      "True\n"
     ]
    }
   ],
   "source": [
    "string1 = secrets.token_bytes(64)\n",
    "string2 = string1\n",
    "\n",
    "result = secrets.compare_digest(string1, string2)\n",
    "print(result)"
   ]
  },
  {
   "cell_type": "markdown",
   "metadata": {},
   "source": [
    "5. Generează o cheie fluidă binară care ulterior să poată fi folosită pentru criptarea unui mesaj de 100 caractere."
   ]
  },
  {
   "cell_type": "code",
   "execution_count": 22,
   "metadata": {},
   "outputs": [
    {
     "name": "stdout",
     "output_type": "stream",
     "text": [
      "b'\\xef\\x82\\xb2\\x18eY\\x90\\x15\\x19UHY\\x18z\\x19\\xab\\x9b\\xc4\\xdd\\x8em;\\xdb\\x8e\\xec3\\xbc\\xfc\\xee\\xc0\\xbc\\xfe\\x0c\\xa9\\x08\\xe4G\\xe4\\xd5\\xcf\\x01C\\xd3\\x1f\\xa1\\xccWq~\\\\`#\\xcf6c\\xf0Qn\\xec\\xf8\\x0b\\xe2-|P@EW\\xd4B\\x83\\xd5\"Q\\xf3\\xe3\\xe73DxZ\\xdc\\x0b@\\x10\\xc0\\xe4\\xfc\\xc1\\xbe\\r\\xca6\\x14[T>\\xa9\\xc5I'\n"
     ]
    }
   ],
   "source": [
    "import binascii\n",
    "\n",
    "key = secrets.token_bytes(100)\n",
    "print(key)"
   ]
  },
  {
   "cell_type": "markdown",
   "metadata": {},
   "source": [
    "6. Stochează parole folosind un modul / o librărie care să ofere un nivel suficient de securitate.\n",
    "\n",
    "***Metoda aleasa***: PBKDF2 (Password-Based Key Derivation Function 2)"
   ]
  },
  {
   "cell_type": "code",
   "execution_count": 23,
   "metadata": {},
   "outputs": [
    {
     "name": "stdout",
     "output_type": "stream",
     "text": [
      "b'33a2c634b345e8949e381ddf6f30161255bdbea0c27cd220b5509dbd8a206977'\n"
     ]
    }
   ],
   "source": [
    "import os, binascii\n",
    "from backports.pbkdf2 import pbkdf2_hmac\n",
    "\n",
    "salt = secrets.token_bytes(32)\n",
    "password = \"parola\".encode(\"utf8\")\n",
    "key = pbkdf2_hmac(\"sha256\", password, salt, 50000, 32)\n",
    "print(binascii.hexlify(key))"
   ]
  }
 ],
 "metadata": {
  "kernelspec": {
   "display_name": "Python 3.10.7 64-bit",
   "language": "python",
   "name": "python3"
  },
  "language_info": {
   "codemirror_mode": {
    "name": "ipython",
    "version": 3
   },
   "file_extension": ".py",
   "mimetype": "text/x-python",
   "name": "python",
   "nbconvert_exporter": "python",
   "pygments_lexer": "ipython3",
   "version": "3.10.7"
  },
  "orig_nbformat": 4,
  "vscode": {
   "interpreter": {
    "hash": "000415aa154d9136c8fc53aa093a6cffdce1a35468ce3069257e83f15b601b3f"
   }
  }
 },
 "nbformat": 4,
 "nbformat_minor": 2
}

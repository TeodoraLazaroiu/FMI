{
 "cells": [
  {
   "cell_type": "code",
   "execution_count": 2,
   "metadata": {},
   "outputs": [
    {
     "ename": "ModuleNotFoundError",
     "evalue": "No module named 'crypto'",
     "output_type": "error",
     "traceback": [
      "\u001b[1;31m---------------------------------------------------------------------------\u001b[0m",
      "\u001b[1;31mModuleNotFoundError\u001b[0m                       Traceback (most recent call last)",
      "Cell \u001b[1;32mIn [2], line 1\u001b[0m\n\u001b[1;32m----> 1\u001b[0m \u001b[39mfrom\u001b[39;00m \u001b[39mcrypto\u001b[39;00m\u001b[39m.\u001b[39;00m\u001b[39mChiper\u001b[39;00m \u001b[39mimport\u001b[39;00m AES\n",
      "\u001b[1;31mModuleNotFoundError\u001b[0m: No module named 'crypto'"
     ]
    }
   ],
   "source": [
    "from crypto.Chiper import AES"
   ]
  }
 ],
 "metadata": {
  "kernelspec": {
   "display_name": "Python 3.10.7 64-bit",
   "language": "python",
   "name": "python3"
  },
  "language_info": {
   "codemirror_mode": {
    "name": "ipython",
    "version": 3
   },
   "file_extension": ".py",
   "mimetype": "text/x-python",
   "name": "python",
   "nbconvert_exporter": "python",
   "pygments_lexer": "ipython3",
   "version": "3.10.7"
  },
  "orig_nbformat": 4,
  "vscode": {
   "interpreter": {
    "hash": "000415aa154d9136c8fc53aa093a6cffdce1a35468ce3069257e83f15b601b3f"
   }
  }
 },
 "nbformat": 4,
 "nbformat_minor": 2
}

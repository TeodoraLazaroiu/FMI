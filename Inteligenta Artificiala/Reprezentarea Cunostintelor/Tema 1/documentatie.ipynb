{
 "cells": [
  {
   "cell_type": "markdown",
   "metadata": {},
   "source": [
    "# Tema Cautare Informata\n",
    "Lazaroiu Teodora-Bianca, grupa 241\n",
    "\n",
    "## 1. Prezentarea problemei\n",
    "\n",
    "Pornind de la programul problemei blocurilor scrieti un program asemanator in care se considera ca fiecare bloc are un id unic, de exemplu o litera: a,b,c,d ... ) si o stare: sanatos sau bolnav, marcare prin culorile alb, respectiv gri. Mutarea blocurilor se face cu urmatoarele restrictii si efecte:\n",
    "\n",
    "- Dupa fiecare mutare toate blocurile bolnave (nu doar blocul mutat) isi infecteaza vecinii (in toate directiile: sus si jos pe aceeasi stiva, stanga si dreapta la acelasi nivel pe stivele imediat vecine). Infectarea se face dupa mutare, deci, daca am plasat b1 peste b2 si unul din ele este initial bolnav, dupa mutare, ambele blocuri devin bolnave.\n",
    "- Un alt tip de mutare este plasarea unui bloc bolnav in \"carantina\" (practic blocul bolnav e luat de pe stiva dar nu mai e plasat nicaieri.\n",
    "\n",
    "Costul mutarii unui bloc este dat de inaltimea de la care a fost preluat. O stare e considerata scop daca reusim sa izolam o stiva cu minim K blocuri sanatoase. O stiva e izolata daca in stanga si in dreapta fie nu avem stiva, fie avem doar stiva vida.\n",
    "\n",
    "## 2. Implementarea programului\n",
    "\n",
    "Programul se va apela din linia de comanda in care se afla fisierul avand ca parametrii calea folderului de input, respectiv de output si numarul de solutii ce dorim sa fie afisare in fisierul de output. In folderul dat ca al doilea parametru trebuie sa se gaseasca fisierele de input cu numele *input1.txt*, *input2.txt*, *input3.txt* si *input4.txt* iar scrierea se va face pentru fiecare dintre aceste valori de intrare in fisierele *output1.txt*, *output2.txt*, *output3.txt* respectiv *output4.txt*, in acelasi folder."
   ]
  },
  {
   "cell_type": "code",
   "execution_count": null,
   "metadata": {
    "vscode": {
     "languageId": "plaintext"
    }
   },
   "outputs": [],
   "source": [
    "python3 main.py \"calea folderului de intrare\" \"calea folderului de iesire\" 3"
   ]
  },
  {
   "cell_type": "markdown",
   "metadata": {},
   "source": [
    "## 3. Euristici\n",
    "\n",
    "### 3.1 Euristica banala\n",
    "\n",
    "In cazul **euristicii banale** costul estimat al unui nod va fi 1 daca acesta *nu este o solutie* a algoritmului si 0 *daca este*. "
   ]
  },
  {
   "cell_type": "code",
   "execution_count": null,
   "metadata": {},
   "outputs": [],
   "source": [
    "if tip_euristica == \"euristica banala\":\n",
    "    if self.testeaza_scop(infoNod):\n",
    "        return 0\n",
    "    return 1"
   ]
  },
  {
   "cell_type": "markdown",
   "metadata": {},
   "source": [
    "### 3.2 Prima euristica admisibila\n",
    "\n",
    "Pentru prima **euristica admisibila** se vor lua pe rand fiecare stiva din configuratia curenta si se va testa daca *vecinii acesteia sunt stive goale* sau daca se afla la o extremitate. In cazul in care aceasta nu respecta conditia, vom adauga 1 la costul estimat. Asadar, aceasta euristica va returna numarul de stive din configuratie ce nu sunt inconjurate de stive vide sau nu se afla la margine. Aceasta euristica este admisibila deoarece va fi egala cu cel mult numarul stivelor din configuratie."
   ]
  },
  {
   "cell_type": "code",
   "execution_count": null,
   "metadata": {},
   "outputs": [],
   "source": [
    "elif tip_euristica == \"euristica admisibila 1\":\n",
    "    h = 0\n",
    "    for iStiva, stiva in enumerate(infoNod):\n",
    "        if self.testeaza_vecini(infoNod, iStiva) != True:\n",
    "            h += 1\n",
    "    return h"
   ]
  },
  {
   "cell_type": "markdown",
   "metadata": {},
   "source": [
    "### 3.3 A doua euristica admisibila\n",
    "\n",
    "Pentru a doua **euristica admisibila** se va return numarul de stive din configuratie ce *nu au inaltimea egala cu inaltimea ceruta* din fisierul de intrare. Aceasta euristica este admisibila deoarece costul maxim va fi egal cu numarul de stive din configuratia nodului."
   ]
  },
  {
   "cell_type": "code",
   "execution_count": null,
   "metadata": {},
   "outputs": [],
   "source": [
    "elif tip_euristica == \"euristica admisibila 2\":\n",
    "    h = 0\n",
    "    for stiva in infoNod:\n",
    "        if len(stiva) != self.nivel_scop:\n",
    "            h += 1\n",
    "    return h"
   ]
  },
  {
   "cell_type": "markdown",
   "metadata": {},
   "source": [
    "### 3.4 Euristica neadmisibila\n",
    "\n",
    "In cazul **euristicii neadmisibile** se va modifica a doua euristica admisibila astfel incat aceasta sa returneze un cost estimat care este mai mare decat costul real. Astfel, se vor parcurge stivele din configuratie iar pentru cele ce nu respecta inaltimea ceruta se va aduna la cost inaltimea stivei inmultita cu 1000. Aceasta euristica este neadmisibila deoarece *costul mutarii unui bloc* este inaltimea de la care acesta este luat de pe stiva deci cu siguranta *inaltimea stiva * 1000 va fi mai mare* decat aceasta valoarea."
   ]
  },
  {
   "cell_type": "code",
   "execution_count": null,
   "metadata": {},
   "outputs": [],
   "source": [
    "elif tip_euristica == \"euristica neadmisibila\":\n",
    "    h = 0\n",
    "    for stiva in infoNod:\n",
    "        if len(stiva) != self.nivel_scop:\n",
    "            h += len(stiva) * 1000\n",
    "    return h"
   ]
  }
 ],
 "metadata": {
  "kernelspec": {
   "display_name": "Python 3",
   "language": "python",
   "name": "python3"
  },
  "language_info": {
   "codemirror_mode": {
    "name": "ipython",
    "version": 3
   },
   "file_extension": ".py",
   "mimetype": "text/x-python",
   "name": "python",
   "nbconvert_exporter": "python",
   "pygments_lexer": "ipython3",
   "version": "3.8.8"
  }
 },
 "nbformat": 4,
 "nbformat_minor": 2
}

{
 "cells": [
  {
   "cell_type": "markdown",
   "metadata": {},
   "source": [
    "### Raport Colocviu\n",
    "Lazaroiu Teodora-Bianca, grupa 241\n",
    "\n",
    "#### Exercitiul 2\n",
    "\n",
    "Prin metoda celor mai apropiati vecini se obtine labelul prin calcularea simularitatii dintre datele de test si toate datele de train. Se vor alege primele k similaritati, unde am ales k = 5 in cazul de fata. Metoda KNN clasifica in functie de cat de apropiata este imaginea de test de imaginile de train insa, in acest caz, gradul de apropiere este reprezentat de similaritatea calculata prin functia de la punctul 1"
   ]
  },
  {
   "cell_type": "code",
   "execution_count": null,
   "metadata": {},
   "outputs": [],
   "source": [
    "diferente = np.zeros(len(train_data))\n",
    "\n",
    "    for i in range(len(train_data)):\n",
    "        diferente[i] = similaritate(train_data[i], test_data, 8)\n",
    "\n",
    "    # pastrez cei mai apropiati K vecini\n",
    "\n",
    "    # indicii elementelor sortate dupa suma\n",
    "    indici = np.argsort(diferente)\n",
    "    k = 5\n",
    "\n",
    "    # returnez labelul cel mai frecvent printre vecini\n",
    "    labels = []\n",
    "    for i in range(k):\n",
    "        labels.append(train_labels[indici[i]])\n",
    "\n",
    "    label = max(labels, key = labels.count)\n",
    "    \n",
    "    return label"
   ]
  },
  {
   "cell_type": "markdown",
   "metadata": {},
   "source": [
    "La final este generat un fisier de tip text unde sunt scrise pe fiecare linie etichetele corespunzatoare imaginilor de test calculate prin metoda celor mai apropiati vecini. Fisierul are 323 de linii si cuprinde valori de 1 sau -1."
   ]
  }
 ],
 "metadata": {
  "kernelspec": {
   "display_name": "Python 3 (ipykernel)",
   "language": "python",
   "name": "python3"
  },
  "language_info": {
   "codemirror_mode": {
    "name": "ipython",
    "version": 3
   },
   "file_extension": ".py",
   "mimetype": "text/x-python",
   "name": "python",
   "nbconvert_exporter": "python",
   "pygments_lexer": "ipython3",
   "version": "3.10.4"
  }
 },
 "nbformat": 4,
 "nbformat_minor": 2
}
